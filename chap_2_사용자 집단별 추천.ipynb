{
 "cells": [
  {
   "cell_type": "markdown",
   "id": "ee7ee256-9419-4a4c-9dea-b6dea792c9a8",
   "metadata": {},
   "source": [
    "## 1. Data Load"
   ]
  },
  {
   "cell_type": "code",
   "execution_count": 40,
   "id": "c3317100-4b08-4d3c-ad1a-031800a8657e",
   "metadata": {},
   "outputs": [
    {
     "data": {
      "text/html": [
       "<div>\n",
       "<style scoped>\n",
       "    .dataframe tbody tr th:only-of-type {\n",
       "        vertical-align: middle;\n",
       "    }\n",
       "\n",
       "    .dataframe tbody tr th {\n",
       "        vertical-align: top;\n",
       "    }\n",
       "\n",
       "    .dataframe thead th {\n",
       "        text-align: right;\n",
       "    }\n",
       "</style>\n",
       "<table border=\"1\" class=\"dataframe\">\n",
       "  <thead>\n",
       "    <tr style=\"text-align: right;\">\n",
       "      <th></th>\n",
       "      <th>age</th>\n",
       "      <th>sex</th>\n",
       "      <th>occupation</th>\n",
       "      <th>zip_code</th>\n",
       "    </tr>\n",
       "    <tr>\n",
       "      <th>user_id</th>\n",
       "      <th></th>\n",
       "      <th></th>\n",
       "      <th></th>\n",
       "      <th></th>\n",
       "    </tr>\n",
       "  </thead>\n",
       "  <tbody>\n",
       "    <tr>\n",
       "      <th>1</th>\n",
       "      <td>24</td>\n",
       "      <td>M</td>\n",
       "      <td>technician</td>\n",
       "      <td>85711</td>\n",
       "    </tr>\n",
       "    <tr>\n",
       "      <th>2</th>\n",
       "      <td>53</td>\n",
       "      <td>F</td>\n",
       "      <td>other</td>\n",
       "      <td>94043</td>\n",
       "    </tr>\n",
       "    <tr>\n",
       "      <th>3</th>\n",
       "      <td>23</td>\n",
       "      <td>M</td>\n",
       "      <td>writer</td>\n",
       "      <td>32067</td>\n",
       "    </tr>\n",
       "    <tr>\n",
       "      <th>4</th>\n",
       "      <td>24</td>\n",
       "      <td>M</td>\n",
       "      <td>technician</td>\n",
       "      <td>43537</td>\n",
       "    </tr>\n",
       "    <tr>\n",
       "      <th>5</th>\n",
       "      <td>33</td>\n",
       "      <td>F</td>\n",
       "      <td>other</td>\n",
       "      <td>15213</td>\n",
       "    </tr>\n",
       "  </tbody>\n",
       "</table>\n",
       "</div>"
      ],
      "text/plain": [
       "         age sex  occupation zip_code\n",
       "user_id                              \n",
       "1         24   M  technician    85711\n",
       "2         53   F       other    94043\n",
       "3         23   M      writer    32067\n",
       "4         24   M  technician    43537\n",
       "5         33   F       other    15213"
      ]
     },
     "execution_count": 40,
     "metadata": {},
     "output_type": "execute_result"
    }
   ],
   "source": [
    "import pandas as pd \n",
    "\n",
    "# u.user 정보\n",
    "u_cols = ['user_id', 'age', 'sex', 'occupation', 'zip_code']\n",
    "users = pd.read_csv('./data/u.user', sep='|', names=u_cols, encoding='latin-1')\n",
    "users = users.set_index('user_id')\n",
    "users.head()"
   ]
  },
  {
   "cell_type": "code",
   "execution_count": 41,
   "id": "dadab0d7-a877-4ce0-be70-2631caf0b607",
   "metadata": {},
   "outputs": [
    {
     "data": {
      "text/html": [
       "<div>\n",
       "<style scoped>\n",
       "    .dataframe tbody tr th:only-of-type {\n",
       "        vertical-align: middle;\n",
       "    }\n",
       "\n",
       "    .dataframe tbody tr th {\n",
       "        vertical-align: top;\n",
       "    }\n",
       "\n",
       "    .dataframe thead th {\n",
       "        text-align: right;\n",
       "    }\n",
       "</style>\n",
       "<table border=\"1\" class=\"dataframe\">\n",
       "  <thead>\n",
       "    <tr style=\"text-align: right;\">\n",
       "      <th></th>\n",
       "      <th>title</th>\n",
       "      <th>release data</th>\n",
       "      <th>video release date</th>\n",
       "      <th>IMDB URL</th>\n",
       "      <th>unknown</th>\n",
       "      <th>Action</th>\n",
       "      <th>Adventure</th>\n",
       "      <th>Animation</th>\n",
       "      <th>Children's</th>\n",
       "      <th>Comedy</th>\n",
       "      <th>...</th>\n",
       "      <th>Fantasy</th>\n",
       "      <th>Film-Noir</th>\n",
       "      <th>Horror</th>\n",
       "      <th>Musical</th>\n",
       "      <th>Mystery</th>\n",
       "      <th>Romance</th>\n",
       "      <th>Sci-Fi</th>\n",
       "      <th>Thriller</th>\n",
       "      <th>War</th>\n",
       "      <th>Western</th>\n",
       "    </tr>\n",
       "    <tr>\n",
       "      <th>movie_id</th>\n",
       "      <th></th>\n",
       "      <th></th>\n",
       "      <th></th>\n",
       "      <th></th>\n",
       "      <th></th>\n",
       "      <th></th>\n",
       "      <th></th>\n",
       "      <th></th>\n",
       "      <th></th>\n",
       "      <th></th>\n",
       "      <th></th>\n",
       "      <th></th>\n",
       "      <th></th>\n",
       "      <th></th>\n",
       "      <th></th>\n",
       "      <th></th>\n",
       "      <th></th>\n",
       "      <th></th>\n",
       "      <th></th>\n",
       "      <th></th>\n",
       "      <th></th>\n",
       "    </tr>\n",
       "  </thead>\n",
       "  <tbody>\n",
       "    <tr>\n",
       "      <th>1</th>\n",
       "      <td>Toy Story (1995)</td>\n",
       "      <td>01-Jan-1995</td>\n",
       "      <td>NaN</td>\n",
       "      <td>http://us.imdb.com/M/title-exact?Toy%20Story%2...</td>\n",
       "      <td>0</td>\n",
       "      <td>0</td>\n",
       "      <td>0</td>\n",
       "      <td>1</td>\n",
       "      <td>1</td>\n",
       "      <td>1</td>\n",
       "      <td>...</td>\n",
       "      <td>0</td>\n",
       "      <td>0</td>\n",
       "      <td>0</td>\n",
       "      <td>0</td>\n",
       "      <td>0</td>\n",
       "      <td>0</td>\n",
       "      <td>0</td>\n",
       "      <td>0</td>\n",
       "      <td>0</td>\n",
       "      <td>0</td>\n",
       "    </tr>\n",
       "    <tr>\n",
       "      <th>2</th>\n",
       "      <td>GoldenEye (1995)</td>\n",
       "      <td>01-Jan-1995</td>\n",
       "      <td>NaN</td>\n",
       "      <td>http://us.imdb.com/M/title-exact?GoldenEye%20(...</td>\n",
       "      <td>0</td>\n",
       "      <td>1</td>\n",
       "      <td>1</td>\n",
       "      <td>0</td>\n",
       "      <td>0</td>\n",
       "      <td>0</td>\n",
       "      <td>...</td>\n",
       "      <td>0</td>\n",
       "      <td>0</td>\n",
       "      <td>0</td>\n",
       "      <td>0</td>\n",
       "      <td>0</td>\n",
       "      <td>0</td>\n",
       "      <td>0</td>\n",
       "      <td>1</td>\n",
       "      <td>0</td>\n",
       "      <td>0</td>\n",
       "    </tr>\n",
       "  </tbody>\n",
       "</table>\n",
       "<p>2 rows × 23 columns</p>\n",
       "</div>"
      ],
      "text/plain": [
       "                     title release data   video release date  \\\n",
       "movie_id                                                       \n",
       "1         Toy Story (1995)  01-Jan-1995                  NaN   \n",
       "2         GoldenEye (1995)  01-Jan-1995                  NaN   \n",
       "\n",
       "                                                   IMDB URL  unknown  Action  \\\n",
       "movie_id                                                                       \n",
       "1         http://us.imdb.com/M/title-exact?Toy%20Story%2...        0       0   \n",
       "2         http://us.imdb.com/M/title-exact?GoldenEye%20(...        0       1   \n",
       "\n",
       "          Adventure  Animation  Children's  Comedy  ...  Fantasy  Film-Noir  \\\n",
       "movie_id                                            ...                       \n",
       "1                 0          1           1       1  ...        0          0   \n",
       "2                 1          0           0       0  ...        0          0   \n",
       "\n",
       "          Horror  Musical  Mystery  Romance  Sci-Fi  Thriller  War  Western  \n",
       "movie_id                                                                     \n",
       "1              0        0        0        0       0         0    0        0  \n",
       "2              0        0        0        0       0         1    0        0  \n",
       "\n",
       "[2 rows x 23 columns]"
      ]
     },
     "execution_count": 41,
     "metadata": {},
     "output_type": "execute_result"
    }
   ],
   "source": [
    "# u.item 정보\n",
    "i_cols = ['movie_id', 'title', 'release data',' video release date', 'IMDB URL', 'unknown', 'Action', 'Adventure', 'Animation', \n",
    "          'Children\\'s', 'Comedy', 'Crime', 'Documentary', 'Drama', 'Fantasy', 'Film-Noir', 'Horror' ,'Musical', 'Mystery',\n",
    "          'Romance', 'Sci-Fi', 'Thriller', 'War', 'Western']\n",
    "movies = pd.read_csv('./data/u.item', sep='|', names=i_cols, encoding='latin-1')\n",
    "movies = movies.set_index('movie_id')\n",
    "movies.head(2)"
   ]
  },
  {
   "cell_type": "code",
   "execution_count": 42,
   "id": "d869af8b-9d2f-4d0d-86cb-47df786f3399",
   "metadata": {},
   "outputs": [
    {
     "data": {
      "text/html": [
       "<div>\n",
       "<style scoped>\n",
       "    .dataframe tbody tr th:only-of-type {\n",
       "        vertical-align: middle;\n",
       "    }\n",
       "\n",
       "    .dataframe tbody tr th {\n",
       "        vertical-align: top;\n",
       "    }\n",
       "\n",
       "    .dataframe thead th {\n",
       "        text-align: right;\n",
       "    }\n",
       "</style>\n",
       "<table border=\"1\" class=\"dataframe\">\n",
       "  <thead>\n",
       "    <tr style=\"text-align: right;\">\n",
       "      <th></th>\n",
       "      <th>movie_id</th>\n",
       "      <th>rating</th>\n",
       "      <th>timestamp</th>\n",
       "    </tr>\n",
       "    <tr>\n",
       "      <th>user_id</th>\n",
       "      <th></th>\n",
       "      <th></th>\n",
       "      <th></th>\n",
       "    </tr>\n",
       "  </thead>\n",
       "  <tbody>\n",
       "    <tr>\n",
       "      <th>196</th>\n",
       "      <td>242</td>\n",
       "      <td>3</td>\n",
       "      <td>881250949</td>\n",
       "    </tr>\n",
       "    <tr>\n",
       "      <th>186</th>\n",
       "      <td>302</td>\n",
       "      <td>3</td>\n",
       "      <td>891717742</td>\n",
       "    </tr>\n",
       "    <tr>\n",
       "      <th>22</th>\n",
       "      <td>377</td>\n",
       "      <td>1</td>\n",
       "      <td>878887116</td>\n",
       "    </tr>\n",
       "    <tr>\n",
       "      <th>244</th>\n",
       "      <td>51</td>\n",
       "      <td>2</td>\n",
       "      <td>880606923</td>\n",
       "    </tr>\n",
       "    <tr>\n",
       "      <th>166</th>\n",
       "      <td>346</td>\n",
       "      <td>1</td>\n",
       "      <td>886397596</td>\n",
       "    </tr>\n",
       "  </tbody>\n",
       "</table>\n",
       "</div>"
      ],
      "text/plain": [
       "         movie_id  rating  timestamp\n",
       "user_id                             \n",
       "196           242       3  881250949\n",
       "186           302       3  891717742\n",
       "22            377       1  878887116\n",
       "244            51       2  880606923\n",
       "166           346       1  886397596"
      ]
     },
     "execution_count": 42,
     "metadata": {},
     "output_type": "execute_result"
    }
   ],
   "source": [
    "# u.data 정보\n",
    "r_cols = ['user_id', 'movie_id', 'rating', 'timestamp']\n",
    "ratings = pd.read_csv('./data/u.data', sep='\\t', names=r_cols, encoding='latin-1')\n",
    "ratings = ratings.set_index('user_id')\n",
    "ratings.head()"
   ]
  },
  {
   "cell_type": "markdown",
   "id": "b6d2717e-8e25-4840-bd61-e4c71db3f46f",
   "metadata": {},
   "source": [
    "## 2. Best-seller 추천"
   ]
  },
  {
   "cell_type": "code",
   "execution_count": 43,
   "id": "f4b3b53f-52d7-4ba9-821c-95c1c0088c4f",
   "metadata": {},
   "outputs": [],
   "source": [
    "def recom_movie1(df, n_items):\n",
    "    movie_sort = df.sort_values(ascending=False)[:n_items]\n",
    "    recom_movies = movies.loc[movie_sort.index]\n",
    "    recommendations = recom_movies['title']\n",
    "    return recommendations"
   ]
  },
  {
   "cell_type": "code",
   "execution_count": 44,
   "id": "a312381d-6d8e-4d0a-bcc4-9b2892c3741b",
   "metadata": {},
   "outputs": [
    {
     "data": {
      "text/plain": [
       "movie_id\n",
       "1       3.878319\n",
       "2       3.206107\n",
       "3       3.033333\n",
       "4       3.550239\n",
       "5       3.302326\n",
       "          ...   \n",
       "1678    1.000000\n",
       "1679    3.000000\n",
       "1680    2.000000\n",
       "1681    3.000000\n",
       "1682    3.000000\n",
       "Name: rating, Length: 1682, dtype: float64"
      ]
     },
     "execution_count": 44,
     "metadata": {},
     "output_type": "execute_result"
    }
   ],
   "source": [
    "movie_mean_df = ratings.groupby(['movie_id'])['rating'].mean()\n",
    "movie_mean_df"
   ]
  },
  {
   "cell_type": "code",
   "execution_count": 45,
   "id": "17253d15-0135-4ed3-ad7b-58d21524004f",
   "metadata": {},
   "outputs": [
    {
     "data": {
      "text/plain": [
       "movie_id\n",
       "814                         Great Day in Harlem, A (1994)\n",
       "1599                        Someone Else's America (1995)\n",
       "1201           Marlene Dietrich: Shadow and Light (1996) \n",
       "1122                       They Made Me a Criminal (1939)\n",
       "1653    Entertaining Angels: The Dorothy Day Story (1996)\n",
       "Name: title, dtype: object"
      ]
     },
     "execution_count": 45,
     "metadata": {},
     "output_type": "execute_result"
    }
   ],
   "source": [
    "recom_movie1(movie_mean_df, 5)"
   ]
  },
  {
   "cell_type": "code",
   "execution_count": 46,
   "id": "95181569-156f-4025-a2ff-4b7e33d9e6a8",
   "metadata": {},
   "outputs": [],
   "source": [
    "def recom_movie2(df, n_items):\n",
    "    return movies.loc[df.sort_values(ascending=False)[:n_items].index]['title']"
   ]
  },
  {
   "cell_type": "code",
   "execution_count": 47,
   "id": "4b8d29c2-bcea-49a4-9ef1-621cb2001571",
   "metadata": {},
   "outputs": [
    {
     "data": {
      "text/plain": [
       "movie_id\n",
       "814                         Great Day in Harlem, A (1994)\n",
       "1599                        Someone Else's America (1995)\n",
       "1201           Marlene Dietrich: Shadow and Light (1996) \n",
       "1122                       They Made Me a Criminal (1939)\n",
       "1653    Entertaining Angels: The Dorothy Day Story (1996)\n",
       "Name: title, dtype: object"
      ]
     },
     "execution_count": 47,
     "metadata": {},
     "output_type": "execute_result"
    }
   ],
   "source": [
    "recom_movie2(movie_mean_df, 5)"
   ]
  },
  {
   "cell_type": "markdown",
   "id": "07c1cb27-d2f7-4fcc-976b-fa99d830279f",
   "metadata": {},
   "source": [
    "## 3. 정확도 측정"
   ]
  },
  {
   "cell_type": "code",
   "execution_count": 48,
   "id": "3a8c4390-fa4b-43a8-bfcd-954c541d3319",
   "metadata": {},
   "outputs": [],
   "source": [
    "import numpy as np\n",
    "def RMSE(y_true, y_pred):\n",
    "    return np.sqrt(np.mean((np.array(y_true) - np.array(y_pred)) ** 2))"
   ]
  },
  {
   "cell_type": "code",
   "execution_count": 49,
   "id": "74977755-9608-4726-8532-2025cd209bf1",
   "metadata": {},
   "outputs": [
    {
     "data": {
      "text/plain": [
       "100000"
      ]
     },
     "execution_count": 49,
     "metadata": {},
     "output_type": "execute_result"
    }
   ],
   "source": [
    "len(ratings.index)"
   ]
  },
  {
   "cell_type": "code",
   "execution_count": 50,
   "id": "5237b598-9e3c-4765-847c-a18466d365d9",
   "metadata": {},
   "outputs": [
    {
     "data": {
      "text/plain": [
       "943"
      ]
     },
     "execution_count": 50,
     "metadata": {},
     "output_type": "execute_result"
    }
   ],
   "source": [
    "# 중복없는 user수\n",
    "len(set(ratings.index))"
   ]
  },
  {
   "cell_type": "code",
   "execution_count": 51,
   "id": "702bf4cf-f3b9-481c-b381-26a9a3951422",
   "metadata": {},
   "outputs": [],
   "source": [
    "rmse = []\n",
    "for user in set(ratings.index):\n",
    "    y_true = ratings.loc[user]['rating']\n",
    "    y_pred = movie_mean_df[ratings.loc[user]['movie_id']] # user가 본 movie_id 리스트\n",
    "    accuracy = RMSE(y_true, y_pred)\n",
    "    rmse.append(accuracy)"
   ]
  },
  {
   "cell_type": "code",
   "execution_count": 52,
   "id": "70222535-5a0f-4ac2-a1cd-f9f84f23f275",
   "metadata": {},
   "outputs": [
    {
     "data": {
      "text/plain": [
       "943"
      ]
     },
     "execution_count": 52,
     "metadata": {},
     "output_type": "execute_result"
    }
   ],
   "source": [
    "len(rmse)"
   ]
  },
  {
   "cell_type": "code",
   "execution_count": 53,
   "id": "1b5c1dc6-8340-4c0b-984a-4e340372a8eb",
   "metadata": {},
   "outputs": [
    {
     "data": {
      "text/html": [
       "<div>\n",
       "<style scoped>\n",
       "    .dataframe tbody tr th:only-of-type {\n",
       "        vertical-align: middle;\n",
       "    }\n",
       "\n",
       "    .dataframe tbody tr th {\n",
       "        vertical-align: top;\n",
       "    }\n",
       "\n",
       "    .dataframe thead th {\n",
       "        text-align: right;\n",
       "    }\n",
       "</style>\n",
       "<table border=\"1\" class=\"dataframe\">\n",
       "  <thead>\n",
       "    <tr style=\"text-align: right;\">\n",
       "      <th></th>\n",
       "      <th>movie_id</th>\n",
       "      <th>rating</th>\n",
       "      <th>timestamp</th>\n",
       "    </tr>\n",
       "    <tr>\n",
       "      <th>user_id</th>\n",
       "      <th></th>\n",
       "      <th></th>\n",
       "      <th></th>\n",
       "    </tr>\n",
       "  </thead>\n",
       "  <tbody>\n",
       "    <tr>\n",
       "      <th>196</th>\n",
       "      <td>242</td>\n",
       "      <td>3</td>\n",
       "      <td>881250949</td>\n",
       "    </tr>\n",
       "    <tr>\n",
       "      <th>196</th>\n",
       "      <td>393</td>\n",
       "      <td>4</td>\n",
       "      <td>881251863</td>\n",
       "    </tr>\n",
       "    <tr>\n",
       "      <th>196</th>\n",
       "      <td>381</td>\n",
       "      <td>4</td>\n",
       "      <td>881251728</td>\n",
       "    </tr>\n",
       "    <tr>\n",
       "      <th>196</th>\n",
       "      <td>251</td>\n",
       "      <td>3</td>\n",
       "      <td>881251274</td>\n",
       "    </tr>\n",
       "    <tr>\n",
       "      <th>196</th>\n",
       "      <td>655</td>\n",
       "      <td>5</td>\n",
       "      <td>881251793</td>\n",
       "    </tr>\n",
       "  </tbody>\n",
       "</table>\n",
       "</div>"
      ],
      "text/plain": [
       "         movie_id  rating  timestamp\n",
       "user_id                             \n",
       "196           242       3  881250949\n",
       "196           393       4  881251863\n",
       "196           381       4  881251728\n",
       "196           251       3  881251274\n",
       "196           655       5  881251793"
      ]
     },
     "execution_count": 53,
     "metadata": {},
     "output_type": "execute_result"
    }
   ],
   "source": [
    "# 196번 사용자\n",
    "ratings.loc[196].head()"
   ]
  },
  {
   "cell_type": "code",
   "execution_count": 54,
   "id": "c76db87b-1115-418a-8172-f813ec8454da",
   "metadata": {
    "tags": []
   },
   "outputs": [],
   "source": [
    "users.to_csv('./data/users.dat')\n",
    "movies.to_csv('./data/movies.dat')\n",
    "ratings.to_csv('./data/ratings.dat')"
   ]
  },
  {
   "cell_type": "markdown",
   "id": "9b5196af-7159-4ea6-9553-b84487b16fb3",
   "metadata": {},
   "source": [
    "## 4. 사용자 집단별 추천"
   ]
  },
  {
   "cell_type": "code",
   "execution_count": 134,
   "id": "7e67d888-4296-47c7-b5b3-680368fef752",
   "metadata": {},
   "outputs": [],
   "source": [
    "users = pd.read_csv('./data/users.dat')\n",
    "movies = pd.read_csv('./data/movies.dat')\n",
    "ratings = pd.read_csv('./data/ratings.dat')"
   ]
  },
  {
   "cell_type": "code",
   "execution_count": 135,
   "id": "bbf25553-4ba9-4612-8c42-a863a8212f0a",
   "metadata": {},
   "outputs": [],
   "source": [
    "ratings = ratings.drop('timestamp', axis=1)\n",
    "movies = movies[['movie_id', 'title']]"
   ]
  },
  {
   "cell_type": "code",
   "execution_count": 136,
   "id": "d2cdc09e-ed51-45d1-b391-e118c1e0286f",
   "metadata": {},
   "outputs": [],
   "source": [
    "# train, test set 분리\n",
    "from sklearn.model_selection import train_test_split\n",
    "X = ratings.copy()\n",
    "y = ratings['user_id']\n",
    "X_train, X_test, y_train, y_test = train_test_split(X, y, test_size=0.25, stratify=y)"
   ]
  },
  {
   "cell_type": "code",
   "execution_count": 137,
   "id": "6d053abe-bd92-4268-bd84-11d85869740f",
   "metadata": {},
   "outputs": [],
   "source": [
    "def RMSE(y_true, y_pred):\n",
    "    return np.sqrt(np.mean((np.array(y_true) - np.array(y_pred)) ** 2))\n",
    "\n",
    "def score(model):\n",
    "    id_pairs = zip(X_test['user_id'], X_test['movie_id'])\n",
    "    y_pred = np.array([model(user, movie) for (user, movie) in id_pairs])\n",
    "    y_true = np.array(X_test['rating'])\n",
    "    return RMSE(y_true, y_pred)"
   ]
  },
  {
   "cell_type": "code",
   "execution_count": 138,
   "id": "4000be7c-3254-47df-a031-b6d7ac6877c3",
   "metadata": {},
   "outputs": [],
   "source": [
    "rating_matrix = X_train.pivot(index='user_id', columns='movie_id', values='rating')"
   ]
  },
  {
   "cell_type": "code",
   "execution_count": 139,
   "id": "78f58501-8e17-4dfe-8ad8-b65dbf496616",
   "metadata": {},
   "outputs": [
    {
     "data": {
      "text/html": [
       "<div>\n",
       "<style scoped>\n",
       "    .dataframe tbody tr th:only-of-type {\n",
       "        vertical-align: middle;\n",
       "    }\n",
       "\n",
       "    .dataframe tbody tr th {\n",
       "        vertical-align: top;\n",
       "    }\n",
       "\n",
       "    .dataframe thead th {\n",
       "        text-align: right;\n",
       "    }\n",
       "</style>\n",
       "<table border=\"1\" class=\"dataframe\">\n",
       "  <thead>\n",
       "    <tr style=\"text-align: right;\">\n",
       "      <th>movie_id</th>\n",
       "      <th>1</th>\n",
       "      <th>2</th>\n",
       "      <th>3</th>\n",
       "      <th>4</th>\n",
       "      <th>5</th>\n",
       "      <th>6</th>\n",
       "      <th>7</th>\n",
       "      <th>8</th>\n",
       "      <th>9</th>\n",
       "      <th>10</th>\n",
       "      <th>...</th>\n",
       "      <th>1670</th>\n",
       "      <th>1672</th>\n",
       "      <th>1673</th>\n",
       "      <th>1676</th>\n",
       "      <th>1677</th>\n",
       "      <th>1678</th>\n",
       "      <th>1679</th>\n",
       "      <th>1680</th>\n",
       "      <th>1681</th>\n",
       "      <th>1682</th>\n",
       "    </tr>\n",
       "    <tr>\n",
       "      <th>user_id</th>\n",
       "      <th></th>\n",
       "      <th></th>\n",
       "      <th></th>\n",
       "      <th></th>\n",
       "      <th></th>\n",
       "      <th></th>\n",
       "      <th></th>\n",
       "      <th></th>\n",
       "      <th></th>\n",
       "      <th></th>\n",
       "      <th></th>\n",
       "      <th></th>\n",
       "      <th></th>\n",
       "      <th></th>\n",
       "      <th></th>\n",
       "      <th></th>\n",
       "      <th></th>\n",
       "      <th></th>\n",
       "      <th></th>\n",
       "      <th></th>\n",
       "      <th></th>\n",
       "    </tr>\n",
       "  </thead>\n",
       "  <tbody>\n",
       "    <tr>\n",
       "      <th>1</th>\n",
       "      <td>NaN</td>\n",
       "      <td>NaN</td>\n",
       "      <td>NaN</td>\n",
       "      <td>3.0</td>\n",
       "      <td>3.0</td>\n",
       "      <td>5.0</td>\n",
       "      <td>4.0</td>\n",
       "      <td>1.0</td>\n",
       "      <td>5.0</td>\n",
       "      <td>3.0</td>\n",
       "      <td>...</td>\n",
       "      <td>NaN</td>\n",
       "      <td>NaN</td>\n",
       "      <td>NaN</td>\n",
       "      <td>NaN</td>\n",
       "      <td>NaN</td>\n",
       "      <td>NaN</td>\n",
       "      <td>NaN</td>\n",
       "      <td>NaN</td>\n",
       "      <td>NaN</td>\n",
       "      <td>NaN</td>\n",
       "    </tr>\n",
       "    <tr>\n",
       "      <th>2</th>\n",
       "      <td>4.0</td>\n",
       "      <td>NaN</td>\n",
       "      <td>NaN</td>\n",
       "      <td>NaN</td>\n",
       "      <td>NaN</td>\n",
       "      <td>NaN</td>\n",
       "      <td>NaN</td>\n",
       "      <td>NaN</td>\n",
       "      <td>NaN</td>\n",
       "      <td>2.0</td>\n",
       "      <td>...</td>\n",
       "      <td>NaN</td>\n",
       "      <td>NaN</td>\n",
       "      <td>NaN</td>\n",
       "      <td>NaN</td>\n",
       "      <td>NaN</td>\n",
       "      <td>NaN</td>\n",
       "      <td>NaN</td>\n",
       "      <td>NaN</td>\n",
       "      <td>NaN</td>\n",
       "      <td>NaN</td>\n",
       "    </tr>\n",
       "    <tr>\n",
       "      <th>3</th>\n",
       "      <td>NaN</td>\n",
       "      <td>NaN</td>\n",
       "      <td>NaN</td>\n",
       "      <td>NaN</td>\n",
       "      <td>NaN</td>\n",
       "      <td>NaN</td>\n",
       "      <td>NaN</td>\n",
       "      <td>NaN</td>\n",
       "      <td>NaN</td>\n",
       "      <td>NaN</td>\n",
       "      <td>...</td>\n",
       "      <td>NaN</td>\n",
       "      <td>NaN</td>\n",
       "      <td>NaN</td>\n",
       "      <td>NaN</td>\n",
       "      <td>NaN</td>\n",
       "      <td>NaN</td>\n",
       "      <td>NaN</td>\n",
       "      <td>NaN</td>\n",
       "      <td>NaN</td>\n",
       "      <td>NaN</td>\n",
       "    </tr>\n",
       "    <tr>\n",
       "      <th>4</th>\n",
       "      <td>NaN</td>\n",
       "      <td>NaN</td>\n",
       "      <td>NaN</td>\n",
       "      <td>NaN</td>\n",
       "      <td>NaN</td>\n",
       "      <td>NaN</td>\n",
       "      <td>NaN</td>\n",
       "      <td>NaN</td>\n",
       "      <td>NaN</td>\n",
       "      <td>NaN</td>\n",
       "      <td>...</td>\n",
       "      <td>NaN</td>\n",
       "      <td>NaN</td>\n",
       "      <td>NaN</td>\n",
       "      <td>NaN</td>\n",
       "      <td>NaN</td>\n",
       "      <td>NaN</td>\n",
       "      <td>NaN</td>\n",
       "      <td>NaN</td>\n",
       "      <td>NaN</td>\n",
       "      <td>NaN</td>\n",
       "    </tr>\n",
       "    <tr>\n",
       "      <th>5</th>\n",
       "      <td>NaN</td>\n",
       "      <td>NaN</td>\n",
       "      <td>NaN</td>\n",
       "      <td>NaN</td>\n",
       "      <td>NaN</td>\n",
       "      <td>NaN</td>\n",
       "      <td>NaN</td>\n",
       "      <td>NaN</td>\n",
       "      <td>NaN</td>\n",
       "      <td>NaN</td>\n",
       "      <td>...</td>\n",
       "      <td>NaN</td>\n",
       "      <td>NaN</td>\n",
       "      <td>NaN</td>\n",
       "      <td>NaN</td>\n",
       "      <td>NaN</td>\n",
       "      <td>NaN</td>\n",
       "      <td>NaN</td>\n",
       "      <td>NaN</td>\n",
       "      <td>NaN</td>\n",
       "      <td>NaN</td>\n",
       "    </tr>\n",
       "    <tr>\n",
       "      <th>...</th>\n",
       "      <td>...</td>\n",
       "      <td>...</td>\n",
       "      <td>...</td>\n",
       "      <td>...</td>\n",
       "      <td>...</td>\n",
       "      <td>...</td>\n",
       "      <td>...</td>\n",
       "      <td>...</td>\n",
       "      <td>...</td>\n",
       "      <td>...</td>\n",
       "      <td>...</td>\n",
       "      <td>...</td>\n",
       "      <td>...</td>\n",
       "      <td>...</td>\n",
       "      <td>...</td>\n",
       "      <td>...</td>\n",
       "      <td>...</td>\n",
       "      <td>...</td>\n",
       "      <td>...</td>\n",
       "      <td>...</td>\n",
       "      <td>...</td>\n",
       "    </tr>\n",
       "    <tr>\n",
       "      <th>939</th>\n",
       "      <td>NaN</td>\n",
       "      <td>NaN</td>\n",
       "      <td>NaN</td>\n",
       "      <td>NaN</td>\n",
       "      <td>NaN</td>\n",
       "      <td>NaN</td>\n",
       "      <td>NaN</td>\n",
       "      <td>NaN</td>\n",
       "      <td>5.0</td>\n",
       "      <td>NaN</td>\n",
       "      <td>...</td>\n",
       "      <td>NaN</td>\n",
       "      <td>NaN</td>\n",
       "      <td>NaN</td>\n",
       "      <td>NaN</td>\n",
       "      <td>NaN</td>\n",
       "      <td>NaN</td>\n",
       "      <td>NaN</td>\n",
       "      <td>NaN</td>\n",
       "      <td>NaN</td>\n",
       "      <td>NaN</td>\n",
       "    </tr>\n",
       "    <tr>\n",
       "      <th>940</th>\n",
       "      <td>NaN</td>\n",
       "      <td>NaN</td>\n",
       "      <td>NaN</td>\n",
       "      <td>2.0</td>\n",
       "      <td>NaN</td>\n",
       "      <td>NaN</td>\n",
       "      <td>NaN</td>\n",
       "      <td>NaN</td>\n",
       "      <td>3.0</td>\n",
       "      <td>NaN</td>\n",
       "      <td>...</td>\n",
       "      <td>NaN</td>\n",
       "      <td>NaN</td>\n",
       "      <td>NaN</td>\n",
       "      <td>NaN</td>\n",
       "      <td>NaN</td>\n",
       "      <td>NaN</td>\n",
       "      <td>NaN</td>\n",
       "      <td>NaN</td>\n",
       "      <td>NaN</td>\n",
       "      <td>NaN</td>\n",
       "    </tr>\n",
       "    <tr>\n",
       "      <th>941</th>\n",
       "      <td>5.0</td>\n",
       "      <td>NaN</td>\n",
       "      <td>NaN</td>\n",
       "      <td>NaN</td>\n",
       "      <td>NaN</td>\n",
       "      <td>NaN</td>\n",
       "      <td>4.0</td>\n",
       "      <td>NaN</td>\n",
       "      <td>NaN</td>\n",
       "      <td>NaN</td>\n",
       "      <td>...</td>\n",
       "      <td>NaN</td>\n",
       "      <td>NaN</td>\n",
       "      <td>NaN</td>\n",
       "      <td>NaN</td>\n",
       "      <td>NaN</td>\n",
       "      <td>NaN</td>\n",
       "      <td>NaN</td>\n",
       "      <td>NaN</td>\n",
       "      <td>NaN</td>\n",
       "      <td>NaN</td>\n",
       "    </tr>\n",
       "    <tr>\n",
       "      <th>942</th>\n",
       "      <td>NaN</td>\n",
       "      <td>NaN</td>\n",
       "      <td>NaN</td>\n",
       "      <td>NaN</td>\n",
       "      <td>NaN</td>\n",
       "      <td>NaN</td>\n",
       "      <td>NaN</td>\n",
       "      <td>NaN</td>\n",
       "      <td>NaN</td>\n",
       "      <td>NaN</td>\n",
       "      <td>...</td>\n",
       "      <td>NaN</td>\n",
       "      <td>NaN</td>\n",
       "      <td>NaN</td>\n",
       "      <td>NaN</td>\n",
       "      <td>NaN</td>\n",
       "      <td>NaN</td>\n",
       "      <td>NaN</td>\n",
       "      <td>NaN</td>\n",
       "      <td>NaN</td>\n",
       "      <td>NaN</td>\n",
       "    </tr>\n",
       "    <tr>\n",
       "      <th>943</th>\n",
       "      <td>NaN</td>\n",
       "      <td>5.0</td>\n",
       "      <td>NaN</td>\n",
       "      <td>NaN</td>\n",
       "      <td>NaN</td>\n",
       "      <td>NaN</td>\n",
       "      <td>NaN</td>\n",
       "      <td>NaN</td>\n",
       "      <td>3.0</td>\n",
       "      <td>NaN</td>\n",
       "      <td>...</td>\n",
       "      <td>NaN</td>\n",
       "      <td>NaN</td>\n",
       "      <td>NaN</td>\n",
       "      <td>NaN</td>\n",
       "      <td>NaN</td>\n",
       "      <td>NaN</td>\n",
       "      <td>NaN</td>\n",
       "      <td>NaN</td>\n",
       "      <td>NaN</td>\n",
       "      <td>NaN</td>\n",
       "    </tr>\n",
       "  </tbody>\n",
       "</table>\n",
       "<p>943 rows × 1635 columns</p>\n",
       "</div>"
      ],
      "text/plain": [
       "movie_id  1     2     3     4     5     6     7     8     9     10    ...  \\\n",
       "user_id                                                               ...   \n",
       "1          NaN   NaN   NaN   3.0   3.0   5.0   4.0   1.0   5.0   3.0  ...   \n",
       "2          4.0   NaN   NaN   NaN   NaN   NaN   NaN   NaN   NaN   2.0  ...   \n",
       "3          NaN   NaN   NaN   NaN   NaN   NaN   NaN   NaN   NaN   NaN  ...   \n",
       "4          NaN   NaN   NaN   NaN   NaN   NaN   NaN   NaN   NaN   NaN  ...   \n",
       "5          NaN   NaN   NaN   NaN   NaN   NaN   NaN   NaN   NaN   NaN  ...   \n",
       "...        ...   ...   ...   ...   ...   ...   ...   ...   ...   ...  ...   \n",
       "939        NaN   NaN   NaN   NaN   NaN   NaN   NaN   NaN   5.0   NaN  ...   \n",
       "940        NaN   NaN   NaN   2.0   NaN   NaN   NaN   NaN   3.0   NaN  ...   \n",
       "941        5.0   NaN   NaN   NaN   NaN   NaN   4.0   NaN   NaN   NaN  ...   \n",
       "942        NaN   NaN   NaN   NaN   NaN   NaN   NaN   NaN   NaN   NaN  ...   \n",
       "943        NaN   5.0   NaN   NaN   NaN   NaN   NaN   NaN   3.0   NaN  ...   \n",
       "\n",
       "movie_id  1670  1672  1673  1676  1677  1678  1679  1680  1681  1682  \n",
       "user_id                                                               \n",
       "1          NaN   NaN   NaN   NaN   NaN   NaN   NaN   NaN   NaN   NaN  \n",
       "2          NaN   NaN   NaN   NaN   NaN   NaN   NaN   NaN   NaN   NaN  \n",
       "3          NaN   NaN   NaN   NaN   NaN   NaN   NaN   NaN   NaN   NaN  \n",
       "4          NaN   NaN   NaN   NaN   NaN   NaN   NaN   NaN   NaN   NaN  \n",
       "5          NaN   NaN   NaN   NaN   NaN   NaN   NaN   NaN   NaN   NaN  \n",
       "...        ...   ...   ...   ...   ...   ...   ...   ...   ...   ...  \n",
       "939        NaN   NaN   NaN   NaN   NaN   NaN   NaN   NaN   NaN   NaN  \n",
       "940        NaN   NaN   NaN   NaN   NaN   NaN   NaN   NaN   NaN   NaN  \n",
       "941        NaN   NaN   NaN   NaN   NaN   NaN   NaN   NaN   NaN   NaN  \n",
       "942        NaN   NaN   NaN   NaN   NaN   NaN   NaN   NaN   NaN   NaN  \n",
       "943        NaN   NaN   NaN   NaN   NaN   NaN   NaN   NaN   NaN   NaN  \n",
       "\n",
       "[943 rows x 1635 columns]"
      ]
     },
     "execution_count": 139,
     "metadata": {},
     "output_type": "execute_result"
    }
   ],
   "source": [
    "rating_matrix"
   ]
  },
  {
   "cell_type": "markdown",
   "id": "cf631eb7-693d-42ae-ada3-109f00da1204",
   "metadata": {},
   "source": [
    "### 4-1. 모델1: trainset의 평점 평균으로 testset 평점 예측"
   ]
  },
  {
   "cell_type": "code",
   "execution_count": 140,
   "id": "198a1e40-3568-436e-bae2-b7fac80abc15",
   "metadata": {},
   "outputs": [],
   "source": [
    "def best_seller(user_id, movie_id):\n",
    "    try:\n",
    "        rating = train_mean[movie_id]\n",
    "    except:\n",
    "        # train set에 없지만, test set에 있는 영화는 3.0으로 처리함\n",
    "        rating = 3.0\n",
    "    return rating"
   ]
  },
  {
   "cell_type": "code",
   "execution_count": 141,
   "id": "2d7838a1-13f6-44b2-a6be-37f4b0a622b7",
   "metadata": {},
   "outputs": [],
   "source": [
    "train_mean = X_train.groupby(['movie_id'])['rating'].mean()"
   ]
  },
  {
   "cell_type": "code",
   "execution_count": 142,
   "id": "b268e680-8b4b-4bf6-b675-576011cedfc3",
   "metadata": {
    "tags": []
   },
   "outputs": [
    {
     "data": {
      "text/plain": [
       "movie_id\n",
       "1       3.816327\n",
       "2       3.276596\n",
       "3       3.115942\n",
       "4       3.538961\n",
       "5       3.290323\n",
       "          ...   \n",
       "1678    1.000000\n",
       "1679    3.000000\n",
       "1680    2.000000\n",
       "1681    3.000000\n",
       "1682    3.000000\n",
       "Name: rating, Length: 1635, dtype: float64"
      ]
     },
     "execution_count": 142,
     "metadata": {},
     "output_type": "execute_result"
    }
   ],
   "source": [
    "train_mean"
   ]
  },
  {
   "cell_type": "code",
   "execution_count": 143,
   "id": "d580c24b-4c5a-4139-927d-e7a170408312",
   "metadata": {},
   "outputs": [
    {
     "data": {
      "text/plain": [
       "1.028891953479005"
      ]
     },
     "execution_count": 143,
     "metadata": {},
     "output_type": "execute_result"
    }
   ],
   "source": [
    "score(best_seller)"
   ]
  },
  {
   "cell_type": "markdown",
   "id": "c785bdad-9856-4b30-9e1b-88d841229d14",
   "metadata": {},
   "source": [
    "### 4-2. 모델2: trainset의 성별 평점 평균으로 testset 평점 예측"
   ]
  },
  {
   "cell_type": "code",
   "execution_count": 144,
   "id": "256bc026-fa5c-4174-aad5-481ed504624c",
   "metadata": {},
   "outputs": [],
   "source": [
    "merged_ratings = pd.merge(X_train, users)"
   ]
  },
  {
   "cell_type": "code",
   "execution_count": 145,
   "id": "5c218eaa-6015-47c4-b0df-d06fef283afd",
   "metadata": {},
   "outputs": [
    {
     "data": {
      "text/html": [
       "<div>\n",
       "<style scoped>\n",
       "    .dataframe tbody tr th:only-of-type {\n",
       "        vertical-align: middle;\n",
       "    }\n",
       "\n",
       "    .dataframe tbody tr th {\n",
       "        vertical-align: top;\n",
       "    }\n",
       "\n",
       "    .dataframe thead th {\n",
       "        text-align: right;\n",
       "    }\n",
       "</style>\n",
       "<table border=\"1\" class=\"dataframe\">\n",
       "  <thead>\n",
       "    <tr style=\"text-align: right;\">\n",
       "      <th></th>\n",
       "      <th>user_id</th>\n",
       "      <th>movie_id</th>\n",
       "      <th>rating</th>\n",
       "      <th>age</th>\n",
       "      <th>sex</th>\n",
       "      <th>occupation</th>\n",
       "      <th>zip_code</th>\n",
       "    </tr>\n",
       "  </thead>\n",
       "  <tbody>\n",
       "    <tr>\n",
       "      <th>0</th>\n",
       "      <td>617</td>\n",
       "      <td>17</td>\n",
       "      <td>1</td>\n",
       "      <td>27</td>\n",
       "      <td>F</td>\n",
       "      <td>writer</td>\n",
       "      <td>11201</td>\n",
       "    </tr>\n",
       "    <tr>\n",
       "      <th>1</th>\n",
       "      <td>617</td>\n",
       "      <td>648</td>\n",
       "      <td>3</td>\n",
       "      <td>27</td>\n",
       "      <td>F</td>\n",
       "      <td>writer</td>\n",
       "      <td>11201</td>\n",
       "    </tr>\n",
       "    <tr>\n",
       "      <th>2</th>\n",
       "      <td>617</td>\n",
       "      <td>174</td>\n",
       "      <td>1</td>\n",
       "      <td>27</td>\n",
       "      <td>F</td>\n",
       "      <td>writer</td>\n",
       "      <td>11201</td>\n",
       "    </tr>\n",
       "    <tr>\n",
       "      <th>3</th>\n",
       "      <td>617</td>\n",
       "      <td>145</td>\n",
       "      <td>1</td>\n",
       "      <td>27</td>\n",
       "      <td>F</td>\n",
       "      <td>writer</td>\n",
       "      <td>11201</td>\n",
       "    </tr>\n",
       "    <tr>\n",
       "      <th>4</th>\n",
       "      <td>617</td>\n",
       "      <td>496</td>\n",
       "      <td>1</td>\n",
       "      <td>27</td>\n",
       "      <td>F</td>\n",
       "      <td>writer</td>\n",
       "      <td>11201</td>\n",
       "    </tr>\n",
       "  </tbody>\n",
       "</table>\n",
       "</div>"
      ],
      "text/plain": [
       "   user_id  movie_id  rating  age sex occupation zip_code\n",
       "0      617        17       1   27   F     writer    11201\n",
       "1      617       648       3   27   F     writer    11201\n",
       "2      617       174       1   27   F     writer    11201\n",
       "3      617       145       1   27   F     writer    11201\n",
       "4      617       496       1   27   F     writer    11201"
      ]
     },
     "execution_count": 145,
     "metadata": {},
     "output_type": "execute_result"
    }
   ],
   "source": [
    "merged_ratings.head()"
   ]
  },
  {
   "cell_type": "code",
   "execution_count": 146,
   "id": "e0f5a389-f003-4ad9-9579-d68dc9aa40ed",
   "metadata": {},
   "outputs": [],
   "source": [
    "users = users.set_index('user_id')"
   ]
  },
  {
   "cell_type": "code",
   "execution_count": 147,
   "id": "cf07ba07-fc92-4e69-9f57-8bfa1861123b",
   "metadata": {},
   "outputs": [
    {
     "data": {
      "text/html": [
       "<div>\n",
       "<style scoped>\n",
       "    .dataframe tbody tr th:only-of-type {\n",
       "        vertical-align: middle;\n",
       "    }\n",
       "\n",
       "    .dataframe tbody tr th {\n",
       "        vertical-align: top;\n",
       "    }\n",
       "\n",
       "    .dataframe thead th {\n",
       "        text-align: right;\n",
       "    }\n",
       "</style>\n",
       "<table border=\"1\" class=\"dataframe\">\n",
       "  <thead>\n",
       "    <tr style=\"text-align: right;\">\n",
       "      <th></th>\n",
       "      <th>age</th>\n",
       "      <th>sex</th>\n",
       "      <th>occupation</th>\n",
       "      <th>zip_code</th>\n",
       "    </tr>\n",
       "    <tr>\n",
       "      <th>user_id</th>\n",
       "      <th></th>\n",
       "      <th></th>\n",
       "      <th></th>\n",
       "      <th></th>\n",
       "    </tr>\n",
       "  </thead>\n",
       "  <tbody>\n",
       "    <tr>\n",
       "      <th>1</th>\n",
       "      <td>24</td>\n",
       "      <td>M</td>\n",
       "      <td>technician</td>\n",
       "      <td>85711</td>\n",
       "    </tr>\n",
       "    <tr>\n",
       "      <th>2</th>\n",
       "      <td>53</td>\n",
       "      <td>F</td>\n",
       "      <td>other</td>\n",
       "      <td>94043</td>\n",
       "    </tr>\n",
       "    <tr>\n",
       "      <th>3</th>\n",
       "      <td>23</td>\n",
       "      <td>M</td>\n",
       "      <td>writer</td>\n",
       "      <td>32067</td>\n",
       "    </tr>\n",
       "    <tr>\n",
       "      <th>4</th>\n",
       "      <td>24</td>\n",
       "      <td>M</td>\n",
       "      <td>technician</td>\n",
       "      <td>43537</td>\n",
       "    </tr>\n",
       "    <tr>\n",
       "      <th>5</th>\n",
       "      <td>33</td>\n",
       "      <td>F</td>\n",
       "      <td>other</td>\n",
       "      <td>15213</td>\n",
       "    </tr>\n",
       "  </tbody>\n",
       "</table>\n",
       "</div>"
      ],
      "text/plain": [
       "         age sex  occupation zip_code\n",
       "user_id                              \n",
       "1         24   M  technician    85711\n",
       "2         53   F       other    94043\n",
       "3         23   M      writer    32067\n",
       "4         24   M  technician    43537\n",
       "5         33   F       other    15213"
      ]
     },
     "execution_count": 147,
     "metadata": {},
     "output_type": "execute_result"
    }
   ],
   "source": [
    "users.head()"
   ]
  },
  {
   "cell_type": "code",
   "execution_count": 148,
   "id": "b829ef66-a81d-4004-8bb2-feb9983a0143",
   "metadata": {},
   "outputs": [],
   "source": [
    "g_mean = merged_ratings[['movie_id', 'sex', 'rating']].groupby(['movie_id', 'sex'])['rating'].mean()"
   ]
  },
  {
   "cell_type": "code",
   "execution_count": 149,
   "id": "1a0d9ec6-9a27-41de-88fd-4de7fe6d17ea",
   "metadata": {},
   "outputs": [
    {
     "data": {
      "text/plain": [
       "sex\n",
       "F    3.692308\n",
       "M    3.861111\n",
       "Name: rating, dtype: float64"
      ]
     },
     "execution_count": 149,
     "metadata": {},
     "output_type": "execute_result"
    }
   ],
   "source": [
    "g_mean[1]"
   ]
  },
  {
   "cell_type": "code",
   "execution_count": 150,
   "id": "fa57ceb6-139b-49e9-a84d-e1c44c0fd6cb",
   "metadata": {},
   "outputs": [
    {
     "data": {
      "text/html": [
       "<div>\n",
       "<style scoped>\n",
       "    .dataframe tbody tr th:only-of-type {\n",
       "        vertical-align: middle;\n",
       "    }\n",
       "\n",
       "    .dataframe tbody tr th {\n",
       "        vertical-align: top;\n",
       "    }\n",
       "\n",
       "    .dataframe thead th {\n",
       "        text-align: right;\n",
       "    }\n",
       "</style>\n",
       "<table border=\"1\" class=\"dataframe\">\n",
       "  <thead>\n",
       "    <tr style=\"text-align: right;\">\n",
       "      <th></th>\n",
       "      <th>age</th>\n",
       "      <th>sex</th>\n",
       "      <th>occupation</th>\n",
       "      <th>zip_code</th>\n",
       "    </tr>\n",
       "    <tr>\n",
       "      <th>user_id</th>\n",
       "      <th></th>\n",
       "      <th></th>\n",
       "      <th></th>\n",
       "      <th></th>\n",
       "    </tr>\n",
       "  </thead>\n",
       "  <tbody>\n",
       "    <tr>\n",
       "      <th>1</th>\n",
       "      <td>24</td>\n",
       "      <td>M</td>\n",
       "      <td>technician</td>\n",
       "      <td>85711</td>\n",
       "    </tr>\n",
       "    <tr>\n",
       "      <th>2</th>\n",
       "      <td>53</td>\n",
       "      <td>F</td>\n",
       "      <td>other</td>\n",
       "      <td>94043</td>\n",
       "    </tr>\n",
       "  </tbody>\n",
       "</table>\n",
       "</div>"
      ],
      "text/plain": [
       "         age sex  occupation zip_code\n",
       "user_id                              \n",
       "1         24   M  technician    85711\n",
       "2         53   F       other    94043"
      ]
     },
     "execution_count": 150,
     "metadata": {},
     "output_type": "execute_result"
    }
   ],
   "source": [
    "users.head(2)"
   ]
  },
  {
   "cell_type": "code",
   "execution_count": 151,
   "id": "bf3e3267-cbe0-4d89-a83a-4c7b9a3ed670",
   "metadata": {},
   "outputs": [],
   "source": [
    "def cf_gender(user_id, movie_id):\n",
    "    if movie_id in rating_matrix:\n",
    "        gender = users.loc[user_id]['sex']\n",
    "        \n",
    "        # 평가 인원이 적어서 특정 성별의 평점이 없을 수 있으므로\n",
    "        if gender in g_mean[movie_id]:\n",
    "            gender_rating = g_mean[movie_id][gender]\n",
    "        else:\n",
    "            gender_rating = 3.0\n",
    "    else:\n",
    "        gender_rating = 3.0\n",
    "    \n",
    "    return gender_rating"
   ]
  },
  {
   "cell_type": "code",
   "execution_count": 152,
   "id": "a2b36943-5932-42ad-979e-1068d8404fde",
   "metadata": {},
   "outputs": [
    {
     "data": {
      "text/plain": [
       "1.0384723741301407"
      ]
     },
     "execution_count": 152,
     "metadata": {},
     "output_type": "execute_result"
    }
   ],
   "source": [
    "score(cf_gender)"
   ]
  },
  {
   "cell_type": "markdown",
   "id": "5c73e54b-e473-4f6b-8106-bf0c52787017",
   "metadata": {},
   "source": [
    "### 4-3. 모델3: trainset의 직업의 평균으로 testset 평점 예측 "
   ]
  },
  {
   "cell_type": "code",
   "execution_count": 158,
   "id": "1ad49d97-2074-4fbe-91c2-11d45564dca4",
   "metadata": {},
   "outputs": [
    {
     "data": {
      "text/plain": [
       "{'administrator',\n",
       " 'artist',\n",
       " 'doctor',\n",
       " 'educator',\n",
       " 'engineer',\n",
       " 'entertainment',\n",
       " 'executive',\n",
       " 'healthcare',\n",
       " 'homemaker',\n",
       " 'lawyer',\n",
       " 'librarian',\n",
       " 'marketing',\n",
       " 'none',\n",
       " 'other',\n",
       " 'programmer',\n",
       " 'retired',\n",
       " 'salesman',\n",
       " 'scientist',\n",
       " 'student',\n",
       " 'technician',\n",
       " 'writer'}"
      ]
     },
     "execution_count": 158,
     "metadata": {},
     "output_type": "execute_result"
    }
   ],
   "source": [
    "set(merged_ratings.occupation)"
   ]
  },
  {
   "cell_type": "code",
   "execution_count": 160,
   "id": "18572cb7-7d2a-44d3-b29c-9daca743be8a",
   "metadata": {},
   "outputs": [],
   "source": [
    "o_mean = merged_ratings[['movie_id', 'occupation', 'rating']].groupby(['movie_id', 'occupation'])['rating'].mean()"
   ]
  },
  {
   "cell_type": "code",
   "execution_count": 164,
   "id": "2ae0d2dd-27c3-4a38-81c6-a5574c40040d",
   "metadata": {},
   "outputs": [
    {
     "data": {
      "text/plain": [
       "occupation\n",
       "administrator    3.840000\n",
       "artist           4.000000\n",
       "doctor           3.500000\n",
       "educator         3.677419\n",
       "engineer         3.966667\n",
       "entertainment    3.285714\n",
       "executive        3.666667\n",
       "healthcare       3.000000\n",
       "homemaker        3.000000\n",
       "lawyer           4.000000\n",
       "librarian        3.714286\n",
       "marketing        3.571429\n",
       "none             4.166667\n",
       "other            4.051282\n",
       "programmer       4.172414\n",
       "retired          3.500000\n",
       "salesman         4.500000\n",
       "scientist        4.000000\n",
       "student          3.714286\n",
       "technician       4.222222\n",
       "writer           3.333333\n",
       "Name: rating, dtype: float64"
      ]
     },
     "execution_count": 164,
     "metadata": {},
     "output_type": "execute_result"
    }
   ],
   "source": [
    "o_mean[1]"
   ]
  },
  {
   "cell_type": "code",
   "execution_count": 161,
   "id": "04032788-5606-43de-aec2-2143fa787ac3",
   "metadata": {},
   "outputs": [
    {
     "data": {
      "text/html": [
       "<div>\n",
       "<style scoped>\n",
       "    .dataframe tbody tr th:only-of-type {\n",
       "        vertical-align: middle;\n",
       "    }\n",
       "\n",
       "    .dataframe tbody tr th {\n",
       "        vertical-align: top;\n",
       "    }\n",
       "\n",
       "    .dataframe thead th {\n",
       "        text-align: right;\n",
       "    }\n",
       "</style>\n",
       "<table border=\"1\" class=\"dataframe\">\n",
       "  <thead>\n",
       "    <tr style=\"text-align: right;\">\n",
       "      <th></th>\n",
       "      <th>age</th>\n",
       "      <th>sex</th>\n",
       "      <th>occupation</th>\n",
       "      <th>zip_code</th>\n",
       "    </tr>\n",
       "    <tr>\n",
       "      <th>user_id</th>\n",
       "      <th></th>\n",
       "      <th></th>\n",
       "      <th></th>\n",
       "      <th></th>\n",
       "    </tr>\n",
       "  </thead>\n",
       "  <tbody>\n",
       "    <tr>\n",
       "      <th>1</th>\n",
       "      <td>24</td>\n",
       "      <td>M</td>\n",
       "      <td>technician</td>\n",
       "      <td>85711</td>\n",
       "    </tr>\n",
       "    <tr>\n",
       "      <th>2</th>\n",
       "      <td>53</td>\n",
       "      <td>F</td>\n",
       "      <td>other</td>\n",
       "      <td>94043</td>\n",
       "    </tr>\n",
       "  </tbody>\n",
       "</table>\n",
       "</div>"
      ],
      "text/plain": [
       "         age sex  occupation zip_code\n",
       "user_id                              \n",
       "1         24   M  technician    85711\n",
       "2         53   F       other    94043"
      ]
     },
     "execution_count": 161,
     "metadata": {},
     "output_type": "execute_result"
    }
   ],
   "source": [
    "users.head(2)"
   ]
  },
  {
   "cell_type": "code",
   "execution_count": 165,
   "id": "9980346a-e4ac-45b0-9c4e-db729f51a8dc",
   "metadata": {},
   "outputs": [],
   "source": [
    "def cf_occupation(user_id, movie_id):\n",
    "    if movie_id in rating_matrix:\n",
    "        occupation = users.loc[user_id]['occupation']\n",
    "        \n",
    "        # 평가 인원이 적어서 특정 성별의 평점이 없을 수 있으므로\n",
    "        if occupation in o_mean[movie_id]:\n",
    "            occupation_rating = o_mean[movie_id][occupation]\n",
    "        else:\n",
    "            occupation_rating = 3.0\n",
    "    else:\n",
    "        occupation_rating = 3.0\n",
    "    \n",
    "    return occupation_rating"
   ]
  },
  {
   "cell_type": "code",
   "execution_count": 166,
   "id": "013ea868-b1ad-43ce-a7ff-faf1cd4bd554",
   "metadata": {},
   "outputs": [
    {
     "data": {
      "text/plain": [
       "1.1262711607758618"
      ]
     },
     "execution_count": 166,
     "metadata": {},
     "output_type": "execute_result"
    }
   ],
   "source": [
    "score(cf_occupation)"
   ]
  },
  {
   "cell_type": "markdown",
   "id": "7199785d-d0f5-4487-b421-ab3a1c052f6f",
   "metadata": {},
   "source": [
    "### 4-4. 모델4: trainset의 성별, 직업의 평균으로 testset 평점 예측 "
   ]
  },
  {
   "cell_type": "code",
   "execution_count": 179,
   "id": "33e5c859-c40c-4916-9f57-6baf0e15cc9c",
   "metadata": {},
   "outputs": [
    {
     "data": {
      "text/html": [
       "<div>\n",
       "<style scoped>\n",
       "    .dataframe tbody tr th:only-of-type {\n",
       "        vertical-align: middle;\n",
       "    }\n",
       "\n",
       "    .dataframe tbody tr th {\n",
       "        vertical-align: top;\n",
       "    }\n",
       "\n",
       "    .dataframe thead th {\n",
       "        text-align: right;\n",
       "    }\n",
       "</style>\n",
       "<table border=\"1\" class=\"dataframe\">\n",
       "  <thead>\n",
       "    <tr style=\"text-align: right;\">\n",
       "      <th></th>\n",
       "      <th>user_id</th>\n",
       "      <th>movie_id</th>\n",
       "      <th>rating</th>\n",
       "      <th>age</th>\n",
       "      <th>sex</th>\n",
       "      <th>occupation</th>\n",
       "      <th>zip_code</th>\n",
       "    </tr>\n",
       "  </thead>\n",
       "  <tbody>\n",
       "    <tr>\n",
       "      <th>0</th>\n",
       "      <td>617</td>\n",
       "      <td>17</td>\n",
       "      <td>1</td>\n",
       "      <td>27</td>\n",
       "      <td>F</td>\n",
       "      <td>writer</td>\n",
       "      <td>11201</td>\n",
       "    </tr>\n",
       "    <tr>\n",
       "      <th>1</th>\n",
       "      <td>617</td>\n",
       "      <td>648</td>\n",
       "      <td>3</td>\n",
       "      <td>27</td>\n",
       "      <td>F</td>\n",
       "      <td>writer</td>\n",
       "      <td>11201</td>\n",
       "    </tr>\n",
       "  </tbody>\n",
       "</table>\n",
       "</div>"
      ],
      "text/plain": [
       "   user_id  movie_id  rating  age sex occupation zip_code\n",
       "0      617        17       1   27   F     writer    11201\n",
       "1      617       648       3   27   F     writer    11201"
      ]
     },
     "execution_count": 179,
     "metadata": {},
     "output_type": "execute_result"
    }
   ],
   "source": [
    "merged_ratings.head(2)"
   ]
  },
  {
   "cell_type": "code",
   "execution_count": 181,
   "id": "e13a7d01-1227-4aa5-8599-e602e1b24904",
   "metadata": {},
   "outputs": [],
   "source": [
    "g_o_mean = merged_ratings[['movie_id', 'sex', 'occupation', 'rating']].groupby(['movie_id', 'sex', 'occupation'])['rating'].mean()"
   ]
  },
  {
   "cell_type": "code",
   "execution_count": 201,
   "id": "4e19f9e3-4b4f-4e49-923d-81fa9b406c82",
   "metadata": {},
   "outputs": [
    {
     "name": "stdout",
     "output_type": "stream",
     "text": [
      "hi\n"
     ]
    }
   ],
   "source": [
    "if 'artist' in o_mean[1]:\n",
    "    print('hi')"
   ]
  },
  {
   "cell_type": "code",
   "execution_count": 211,
   "id": "0582abae-7c3c-46d3-b6d4-f47234e587af",
   "metadata": {},
   "outputs": [
    {
     "data": {
      "text/plain": [
       "3.676120448179272"
      ]
     },
     "execution_count": 211,
     "metadata": {},
     "output_type": "execute_result"
    }
   ],
   "source": [
    "g_o_mean[1]['F'].mean()"
   ]
  },
  {
   "cell_type": "code",
   "execution_count": 207,
   "id": "0a908d06-af12-4d3f-898a-270a054d8ed0",
   "metadata": {},
   "outputs": [
    {
     "name": "stdout",
     "output_type": "stream",
     "text": [
      "hi\n",
      "3.8333333333333335\n"
     ]
    }
   ],
   "source": [
    "movie_id = 1\n",
    "gender = 'M'\n",
    "occupation = 'artist'\n",
    "if (gender, occupation) in g_o_mean[movie_id]:\n",
    "    print('hi')\n",
    "    print(g_o_mean[movie_id][gender, occupation])\n",
    "else:\n",
    "    pirnt('no')"
   ]
  },
  {
   "cell_type": "code",
   "execution_count": 184,
   "id": "d31774c0-b27e-4253-ac71-dd63bd1d25a5",
   "metadata": {},
   "outputs": [],
   "source": [
    "gender, occupation = users.loc[1][['sex', 'occupation']]"
   ]
  },
  {
   "cell_type": "code",
   "execution_count": 212,
   "id": "b81a9310-3149-459a-bbbe-9a61e0f4b434",
   "metadata": {},
   "outputs": [],
   "source": [
    "def cf_gender_occupation(user_id, movie_id):\n",
    "    if movie_id in rating_matrix:\n",
    "        gender, occupation = users.loc[user_id][['sex', 'occupation']]\n",
    "        \n",
    "        # 평가 인원이 적어서 특정 성별, 직업의 평점이 없을 수 있으므로\n",
    "        if (gender, occupation) in g_o_mean[movie_id]:\n",
    "            rating = g_o_mean[movie_id][gender, occupation]\n",
    "        elif gender in g_o_mean[movie_id]:\n",
    "            rating = g_o_mean[movie_id][gender].mean()\n",
    "        elif occupation in g_o_mean[movie_id]:\n",
    "            rating = g_o_mean[movie_id][occupation].mean()\n",
    "        else:\n",
    "            rating = 3.0\n",
    "    else:\n",
    "        rating = 3.0\n",
    "    \n",
    "    return rating"
   ]
  },
  {
   "cell_type": "code",
   "execution_count": 213,
   "id": "da888d83-53ae-4c3a-b124-bb96e0ee2f13",
   "metadata": {},
   "outputs": [
    {
     "data": {
      "text/plain": [
       "1.1402270410641107"
      ]
     },
     "execution_count": 213,
     "metadata": {},
     "output_type": "execute_result"
    }
   ],
   "source": [
    "score(cf_gender_occupation)"
   ]
  },
  {
   "cell_type": "code",
   "execution_count": null,
   "id": "5fd966ac-d6d7-4dbe-b654-5404eae37e4e",
   "metadata": {},
   "outputs": [],
   "source": []
  }
 ],
 "metadata": {
  "interpreter": {
   "hash": "936602b2fb004b923c773ec436648c56959d8d8fa58cc026131164791d60e3a7"
  },
  "kernelspec": {
   "display_name": "Python 3 (ipykernel)",
   "language": "python",
   "name": "python3"
  },
  "language_info": {
   "codemirror_mode": {
    "name": "ipython",
    "version": 3
   },
   "file_extension": ".py",
   "mimetype": "text/x-python",
   "name": "python",
   "nbconvert_exporter": "python",
   "pygments_lexer": "ipython3",
   "version": "3.9.12"
  }
 },
 "nbformat": 4,
 "nbformat_minor": 5
}
